{
 "cells": [
  {
   "cell_type": "code",
   "execution_count": 2,
   "metadata": {},
   "outputs": [],
   "source": [
    "import numpy as np                                             # import numpy to operate on matrix\n",
    "import pandas as pd                                            # import pandas to get the data set and parse data\n",
    "from sklearn.linear_model import LinearRegression              # import linearRegression to train the model\n",
    "from sklearn.cross_validation import train_test_split          # import train_test_split data into training and test data\n",
    "import matplotlib.pyplot as plt                                # to view the graph"
   ]
  },
  {
   "cell_type": "code",
   "execution_count": 5,
   "metadata": {},
   "outputs": [],
   "source": [
    "data = pd.read_csv('data.csv',delimiter=',')                   # import .csv file and parse data using delimiter \",\"  \n",
    "X = np.matrix(data)[:,0]                                       # assign features to X\n",
    "Y = np.matrix(data)[:,1]                                       # assign labels to Y\n",
    "#print(\"Data set : \",data)                                      # view data set  \n",
    "#print(\"features : \",X)                                         # view features (X)\n",
    "#print(\"labels : \",Y)                                           # view labels (Y)"
   ]
  },
  {
   "cell_type": "code",
   "execution_count": 9,
   "metadata": {},
   "outputs": [
    {
     "name": "stdout",
     "output_type": "stream",
     "text": [
      "(74, 1)\n",
      "(25, 1)\n",
      "(74, 1)\n",
      "(25, 1)\n"
     ]
    }
   ],
   "source": [
    "X_train,X_test,Y_train,Y_test = train_test_split(X,Y,test_size = 0.25) # split data into training and testing data with a 25% ratio of data as test data\n",
    "print(X_train.shape)                                           # view X_train shape\n",
    "print(X_test.shape)                                            # view X_test shape\n",
    "print(Y_train.shape)                                           # view Y_train shape\n",
    "print(Y_test.shape)                                            # view Y_test shape"
   ]
  },
  {
   "cell_type": "code",
   "execution_count": 10,
   "metadata": {},
   "outputs": [
    {
     "data": {
      "text/plain": [
       "LinearRegression(copy_X=True, fit_intercept=True, n_jobs=1, normalize=False)"
      ]
     },
     "execution_count": 10,
     "metadata": {},
     "output_type": "execute_result"
    }
   ],
   "source": [
    "# train model\n",
    "clf = LinearRegression()\n",
    "clf.fit(X_train,Y_train)"
   ]
  },
  {
   "cell_type": "code",
   "execution_count": 15,
   "metadata": {},
   "outputs": [],
   "source": [
    "predictions = clf.predict(X_test)                              # for given value X_test the model will predict the Y values\n",
    "#print(predictions)                                              # view predicted values"
   ]
  },
  {
   "cell_type": "code",
   "execution_count": 16,
   "metadata": {},
   "outputs": [
    {
     "name": "stdout",
     "output_type": "stream",
     "text": [
      "Formula : y = [[ 1.34600209]]x + [ 7.15304984]\n"
     ]
    }
   ],
   "source": [
    "# formula = y = mx + b\n",
    "m = clf.coef_                                                  # assign value of slope to m                    \n",
    "b = clf.intercept_                                             # assign the intercept value to b\n",
    "print('Formula : y = {0}x + {1}'.format(m,b))                  # view the line equation "
   ]
  },
  {
   "cell_type": "code",
   "execution_count": 17,
   "metadata": {},
   "outputs": [
    {
     "data": {
      "image/png": "[encoded data removed]",
      "text/plain": [
       "<matplotlib.figure.Figure at 0x1944e6f3a58>"
      ]
     },
     "metadata": {},
     "output_type": "display_data"
    }
   ],
   "source": [
    "# view in graph\n",
    "plt.scatter([X],[Y],color='black')                             # scatter all points in data set\n",
    "plt.plot(X_test,predictions,color='red')                       # draw a line with predicted values\n",
    "plt.show()                                                     # display the graph "
   ]
  },
  {
   "cell_type": "code",
   "execution_count": null,
   "metadata": {
    "collapsed": true
   },
   "outputs": [],
   "source": []
  }
 ],
 "metadata": {
  "kernelspec": {
   "display_name": "Python 3",
   "language": "python",
   "name": "python3"
  },
  "language_info": {
   "codemirror_mode": {
    "name": "ipython",
    "version": 3
   },
   "file_extension": ".py",
   "mimetype": "text/x-python",
   "name": "python",
   "nbconvert_exporter": "python",
   "pygments_lexer": "ipython3",
   "version": "3.6.1"
  }
 },
 "nbformat": 4,
 "nbformat_minor": 2
}
