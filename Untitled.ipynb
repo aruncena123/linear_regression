{
 "cells": [
  {
   "cell_type": "code",
   "execution_count": 1,
   "metadata": {
    "collapsed": true
   },
   "outputs": [],
   "source": [
    "import tensorflow as tf\n",
    "import pandas as pd\n",
    "import numpy as np"
   ]
  },
  {
   "cell_type": "code",
   "execution_count": 2,
   "metadata": {},
   "outputs": [
    {
     "data": {
      "text/html": [
       "<div>\n",
       "<style>\n",
       "    .dataframe thead tr:only-child th {\n",
       "        text-align: right;\n",
       "    }\n",
       "\n",
       "    .dataframe thead th {\n",
       "        text-align: left;\n",
       "    }\n",
       "\n",
       "    .dataframe tbody tr th {\n",
       "        vertical-align: top;\n",
       "    }\n",
       "</style>\n",
       "<table border=\"1\" class=\"dataframe\">\n",
       "  <thead>\n",
       "    <tr style=\"text-align: right;\">\n",
       "      <th></th>\n",
       "      <th>x</th>\n",
       "      <th>y</th>\n",
       "    </tr>\n",
       "  </thead>\n",
       "  <tbody>\n",
       "    <tr>\n",
       "      <th>0</th>\n",
       "      <td>32.502345</td>\n",
       "      <td>31.707006</td>\n",
       "    </tr>\n",
       "    <tr>\n",
       "      <th>1</th>\n",
       "      <td>53.426804</td>\n",
       "      <td>68.777596</td>\n",
       "    </tr>\n",
       "    <tr>\n",
       "      <th>2</th>\n",
       "      <td>61.530358</td>\n",
       "      <td>62.562382</td>\n",
       "    </tr>\n",
       "    <tr>\n",
       "      <th>3</th>\n",
       "      <td>47.475640</td>\n",
       "      <td>71.546632</td>\n",
       "    </tr>\n",
       "    <tr>\n",
       "      <th>4</th>\n",
       "      <td>59.813208</td>\n",
       "      <td>87.230925</td>\n",
       "    </tr>\n",
       "  </tbody>\n",
       "</table>\n",
       "</div>"
      ],
      "text/plain": [
       "           x          y\n",
       "0  32.502345  31.707006\n",
       "1  53.426804  68.777596\n",
       "2  61.530358  62.562382\n",
       "3  47.475640  71.546632\n",
       "4  59.813208  87.230925"
      ]
     },
     "execution_count": 2,
     "metadata": {},
     "output_type": "execute_result"
    }
   ],
   "source": [
    "data = pd.read_csv('data.csv',delimiter=',',names=['x','y'])\n",
    "df = pd.DataFrame(data)\n",
    "df.head()"
   ]
  },
  {
   "cell_type": "code",
   "execution_count": null,
   "metadata": {
    "collapsed": true
   },
   "outputs": [],
   "source": []
  },
  {
   "cell_type": "code",
   "execution_count": 3,
   "metadata": {},
   "outputs": [
    {
     "ename": "NameError",
     "evalue": "name 'X' is not defined",
     "output_type": "error",
     "traceback": [
      "\u001b[1;31m---------------------------------------------------------------------------\u001b[0m",
      "\u001b[1;31mNameError\u001b[0m                                 Traceback (most recent call last)",
      "\u001b[1;32m<ipython-input-3-0f6f997ffdb0>\u001b[0m in \u001b[0;36m<module>\u001b[1;34m()\u001b[0m\n\u001b[0;32m      4\u001b[0m \u001b[0mm\u001b[0m \u001b[1;33m=\u001b[0m \u001b[0mtf\u001b[0m\u001b[1;33m.\u001b[0m\u001b[0mVariable\u001b[0m\u001b[1;33m(\u001b[0m\u001b[1;36m1.0\u001b[0m\u001b[1;33m)\u001b[0m        \u001b[1;31m# assign random variable\u001b[0m\u001b[1;33m\u001b[0m\u001b[0m\n\u001b[0;32m      5\u001b[0m \u001b[0mb\u001b[0m \u001b[1;33m=\u001b[0m \u001b[0mtf\u001b[0m\u001b[1;33m.\u001b[0m\u001b[0mVariable\u001b[0m\u001b[1;33m(\u001b[0m\u001b[1;36m0.1\u001b[0m\u001b[1;33m)\u001b[0m        \u001b[1;31m# assign random variable\u001b[0m\u001b[1;33m\u001b[0m\u001b[0m\n\u001b[1;32m----> 6\u001b[1;33m \u001b[0my\u001b[0m \u001b[1;33m=\u001b[0m \u001b[0mm\u001b[0m \u001b[1;33m*\u001b[0m \u001b[0mX\u001b[0m \u001b[1;33m+\u001b[0m \u001b[0mb\u001b[0m\u001b[1;33m\u001b[0m\u001b[0m\n\u001b[0m",
      "\u001b[1;31mNameError\u001b[0m: name 'X' is not defined"
     ]
    }
   ],
   "source": [
    "# initialize the variables\n",
    "# y = mx + b\n",
    "# y = ax + b\n",
    "m = tf.Variable(1.0)        # assign random variable\n",
    "b = tf.Variable(0.1)        # assign random variable\n",
    "y = m * X + b"
   ]
  },
  {
   "cell_type": "code",
   "execution_count": 49,
   "metadata": {},
   "outputs": [
    {
     "ename": "TypeError",
     "evalue": "Failed to convert object of type <class 'pandas.core.series.Series'> to Tensor. Contents: 0     Tensor(\"sub_200:0\", shape=(100,), dtype=float32)\n1     Tensor(\"sub_201:0\", shape=(100,), dtype=float32)\n2     Tensor(\"sub_202:0\", shape=(100,), dtype=float32)\n3     Tensor(\"sub_203:0\", shape=(100,), dtype=float32)\n4     Tensor(\"sub_204:0\", shape=(100,), dtype=float32)\n5     Tensor(\"sub_205:0\", shape=(100,), dtype=float32)\n6     Tensor(\"sub_206:0\", shape=(100,), dtype=float32)\n7     Tensor(\"sub_207:0\", shape=(100,), dtype=float32)\n8     Tensor(\"sub_208:0\", shape=(100,), dtype=float32)\n9     Tensor(\"sub_209:0\", shape=(100,), dtype=float32)\n10    Tensor(\"sub_210:0\", shape=(100,), dtype=float32)\n11    Tensor(\"sub_211:0\", shape=(100,), dtype=float32)\n12    Tensor(\"sub_212:0\", shape=(100,), dtype=float32)\n13    Tensor(\"sub_213:0\", shape=(100,), dtype=float32)\n14    Tensor(\"sub_214:0\", shape=(100,), dtype=float32)\n15    Tensor(\"sub_215:0\", shape=(100,), dtype=float32)\n16    Tensor(\"sub_216:0\", shape=(100,), dtype=float32)\n17    Tensor(\"sub_217:0\", shape=(100,), dtype=float32)\n18    Tensor(\"sub_218:0\", shape=(100,), dtype=float32)\n19    Tensor(\"sub_219:0\", shape=(100,), dtype=float32)\n20    Tensor(\"sub_220:0\", shape=(100,), dtype=float32)\n21    Tensor(\"sub_221:0\", shape=(100,), dtype=float32)\n22    Tensor(\"sub_222:0\", shape=(100,), dtype=float32)\n23    Tensor(\"sub_223:0\", shape=(100,), dtype=float32)\n24    Tensor(\"sub_224:0\", shape=(100,), dtype=float32)\n25    Tensor(\"sub_225:0\", shape=(100,), dtype=float32)\n26    Tensor(\"sub_226:0\", shape=(100,), dtype=float32)\n27    Tensor(\"sub_227:0\", shape=(100,), dtype=float32)\n28    Tensor(\"sub_228:0\", shape=(100,), dtype=float32)\n29    Tensor(\"sub_229:0\", shape=(100,), dtype=float32)\n                            ...                       \n70    Tensor(\"sub_270:0\", shape=(100,), dtype=float32)\n71    Tensor(\"sub_271:0\", shape=(100,), dtype=float32)\n72    Tensor(\"sub_272:0\", shape=(100,), dtype=float32)\n73    Tensor(\"sub_273:0\", shape=(100,), dtype=float32)\n74    Tensor(\"sub_274:0\", shape=(100,), dtype=float32)\n75    Tensor(\"sub_275:0\", shape=(100,), dtype=float32)\n76    Tensor(\"sub_276:0\", shape=(100,), dtype=float32)\n77    Tensor(\"sub_277:0\", shape=(100,), dtype=float32)\n78    Tensor(\"sub_278:0\", shape=(100,), dtype=float32)\n79    Tensor(\"sub_279:0\", shape=(100,), dtype=float32)\n80    Tensor(\"sub_280:0\", shape=(100,), dtype=float32)\n81    Tensor(\"sub_281:0\", shape=(100,), dtype=float32)\n82    Tensor(\"sub_282:0\", shape=(100,), dtype=float32)\n83    Tensor(\"sub_283:0\", shape=(100,), dtype=float32)\n84    Tensor(\"sub_284:0\", shape=(100,), dtype=float32)\n85    Tensor(\"sub_285:0\", shape=(100,), dtype=float32)\n86    Tensor(\"sub_286:0\", shape=(100,), dtype=float32)\n87    Tensor(\"sub_287:0\", shape=(100,), dtype=float32)\n88    Tensor(\"sub_288:0\", shape=(100,), dtype=float32)\n89    Tensor(\"sub_289:0\", shape=(100,), dtype=float32)\n90    Tensor(\"sub_290:0\", shape=(100,), dtype=float32)\n91    Tensor(\"sub_291:0\", shape=(100,), dtype=float32)\n92    Tensor(\"sub_292:0\", shape=(100,), dtype=float32)\n93    Tensor(\"sub_293:0\", shape=(100,), dtype=float32)\n94    Tensor(\"sub_294:0\", shape=(100,), dtype=float32)\n95    Tensor(\"sub_295:0\", shape=(100,), dtype=float32)\n96    Tensor(\"sub_296:0\", shape=(100,), dtype=float32)\n97    Tensor(\"sub_297:0\", shape=(100,), dtype=float32)\n98    Tensor(\"sub_298:0\", shape=(100,), dtype=float32)\n99    Tensor(\"sub_299:0\", shape=(100,), dtype=float32)\nLength: 100, dtype: object. Consider casting elements to a supported type.",
     "output_type": "error",
     "traceback": [
      "\u001b[1;31m---------------------------------------------------------------------------\u001b[0m",
      "\u001b[1;31mTypeError\u001b[0m                                 Traceback (most recent call last)",
      "\u001b[1;32mF:\\anaconda3\\envs\\L\\lib\\site-packages\\tensorflow\\python\\framework\\tensor_util.py\u001b[0m in \u001b[0;36mmake_tensor_proto\u001b[1;34m(values, dtype, shape, verify_shape)\u001b[0m\n\u001b[0;32m    457\u001b[0m     \u001b[1;32mtry\u001b[0m\u001b[1;33m:\u001b[0m\u001b[1;33m\u001b[0m\u001b[0m\n\u001b[1;32m--> 458\u001b[1;33m       \u001b[0mstr_values\u001b[0m \u001b[1;33m=\u001b[0m \u001b[1;33m[\u001b[0m\u001b[0mcompat\u001b[0m\u001b[1;33m.\u001b[0m\u001b[0mas_bytes\u001b[0m\u001b[1;33m(\u001b[0m\u001b[0mx\u001b[0m\u001b[1;33m)\u001b[0m \u001b[1;32mfor\u001b[0m \u001b[0mx\u001b[0m \u001b[1;32min\u001b[0m \u001b[0mproto_values\u001b[0m\u001b[1;33m]\u001b[0m\u001b[1;33m\u001b[0m\u001b[0m\n\u001b[0m\u001b[0;32m    459\u001b[0m     \u001b[1;32mexcept\u001b[0m \u001b[0mTypeError\u001b[0m\u001b[1;33m:\u001b[0m\u001b[1;33m\u001b[0m\u001b[0m\n",
      "\u001b[1;32mF:\\anaconda3\\envs\\L\\lib\\site-packages\\tensorflow\\python\\framework\\tensor_util.py\u001b[0m in \u001b[0;36m<listcomp>\u001b[1;34m(.0)\u001b[0m\n\u001b[0;32m    457\u001b[0m     \u001b[1;32mtry\u001b[0m\u001b[1;33m:\u001b[0m\u001b[1;33m\u001b[0m\u001b[0m\n\u001b[1;32m--> 458\u001b[1;33m       \u001b[0mstr_values\u001b[0m \u001b[1;33m=\u001b[0m \u001b[1;33m[\u001b[0m\u001b[0mcompat\u001b[0m\u001b[1;33m.\u001b[0m\u001b[0mas_bytes\u001b[0m\u001b[1;33m(\u001b[0m\u001b[0mx\u001b[0m\u001b[1;33m)\u001b[0m \u001b[1;32mfor\u001b[0m \u001b[0mx\u001b[0m \u001b[1;32min\u001b[0m \u001b[0mproto_values\u001b[0m\u001b[1;33m]\u001b[0m\u001b[1;33m\u001b[0m\u001b[0m\n\u001b[0m\u001b[0;32m    459\u001b[0m     \u001b[1;32mexcept\u001b[0m \u001b[0mTypeError\u001b[0m\u001b[1;33m:\u001b[0m\u001b[1;33m\u001b[0m\u001b[0m\n",
      "\u001b[1;32mF:\\anaconda3\\envs\\L\\lib\\site-packages\\tensorflow\\python\\util\\compat.py\u001b[0m in \u001b[0;36mas_bytes\u001b[1;34m(bytes_or_text, encoding)\u001b[0m\n\u001b[0;32m     64\u001b[0m     raise TypeError('Expected binary or unicode string, got %r' %\n\u001b[1;32m---> 65\u001b[1;33m                     (bytes_or_text,))\n\u001b[0m\u001b[0;32m     66\u001b[0m \u001b[1;33m\u001b[0m\u001b[0m\n",
      "\u001b[1;31mTypeError\u001b[0m: Expected binary or unicode string, got 0     Tensor(\"sub_200:0\", shape=(100,), dtype=float32)\n1     Tensor(\"sub_201:0\", shape=(100,), dtype=float32)\n2     Tensor(\"sub_202:0\", shape=(100,), dtype=float32)\n3     Tensor(\"sub_203:0\", shape=(100,), dtype=float32)\n4     Tensor(\"sub_204:0\", shape=(100,), dtype=float32)\n5     Tensor(\"sub_205:0\", shape=(100,), dtype=float32)\n6     Tensor(\"sub_206:0\", shape=(100,), dtype=float32)\n7     Tensor(\"sub_207:0\", shape=(100,), dtype=float32)\n8     Tensor(\"sub_208:0\", shape=(100,), dtype=float32)\n9     Tensor(\"sub_209:0\", shape=(100,), dtype=float32)\n10    Tensor(\"sub_210:0\", shape=(100,), dtype=float32)\n11    Tensor(\"sub_211:0\", shape=(100,), dtype=float32)\n12    Tensor(\"sub_212:0\", shape=(100,), dtype=float32)\n13    Tensor(\"sub_213:0\", shape=(100,), dtype=float32)\n14    Tensor(\"sub_214:0\", shape=(100,), dtype=float32)\n15    Tensor(\"sub_215:0\", shape=(100,), dtype=float32)\n16    Tensor(\"sub_216:0\", shape=(100,), dtype=float32)\n17    Tensor(\"sub_217:0\", shape=(100,), dtype=float32)\n18    Tensor(\"sub_218:0\", shape=(100,), dtype=float32)\n19    Tensor(\"sub_219:0\", shape=(100,), dtype=float32)\n20    Tensor(\"sub_220:0\", shape=(100,), dtype=float32)\n21    Tensor(\"sub_221:0\", shape=(100,), dtype=float32)\n22    Tensor(\"sub_222:0\", shape=(100,), dtype=float32)\n23    Tensor(\"sub_223:0\", shape=(100,), dtype=float32)\n24    Tensor(\"sub_224:0\", shape=(100,), dtype=float32)\n25    Tensor(\"sub_225:0\", shape=(100,), dtype=float32)\n26    Tensor(\"sub_226:0\", shape=(100,), dtype=float32)\n27    Tensor(\"sub_227:0\", shape=(100,), dtype=float32)\n28    Tensor(\"sub_228:0\", shape=(100,), dtype=float32)\n29    Tensor(\"sub_229:0\", shape=(100,), dtype=float32)\n                            ...                       \n70    Tensor(\"sub_270:0\", shape=(100,), dtype=float32)\n71    Tensor(\"sub_271:0\", shape=(100,), dtype=float32)\n72    Tensor(\"sub_272:0\", shape=(100,), dtype=float32)\n73    Tensor(\"sub_273:0\", shape=(100,), dtype=float32)\n74    Tensor(\"sub_274:0\", shape=(100,), dtype=float32)\n75    Tensor(\"sub_275:0\", shape=(100,), dtype=float32)\n76    Tensor(\"sub_276:0\", shape=(100,), dtype=float32)\n77    Tensor(\"sub_277:0\", shape=(100,), dtype=float32)\n78    Tensor(\"sub_278:0\", shape=(100,), dtype=float32)\n79    Tensor(\"sub_279:0\", shape=(100,), dtype=float32)\n80    Tensor(\"sub_280:0\", shape=(100,), dtype=float32)\n81    Tensor(\"sub_281:0\", shape=(100,), dtype=float32)\n82    Tensor(\"sub_282:0\", shape=(100,), dtype=float32)\n83    Tensor(\"sub_283:0\", shape=(100,), dtype=float32)\n84    Tensor(\"sub_284:0\", shape=(100,), dtype=float32)\n85    Tensor(\"sub_285:0\", shape=(100,), dtype=float32)\n86    Tensor(\"sub_286:0\", shape=(100,), dtype=float32)\n87    Tensor(\"sub_287:0\", shape=(100,), dtype=float32)\n88    Tensor(\"sub_288:0\", shape=(100,), dtype=float32)\n89    Tensor(\"sub_289:0\", shape=(100,), dtype=float32)\n90    Tensor(\"sub_290:0\", shape=(100,), dtype=float32)\n91    Tensor(\"sub_291:0\", shape=(100,), dtype=float32)\n92    Tensor(\"sub_292:0\", shape=(100,), dtype=float32)\n93    Tensor(\"sub_293:0\", shape=(100,), dtype=float32)\n94    Tensor(\"sub_294:0\", shape=(100,), dtype=float32)\n95    Tensor(\"sub_295:0\", shape=(100,), dtype=float32)\n96    Tensor(\"sub_296:0\", shape=(100,), dtype=float32)\n97    Tensor(\"sub_297:0\", shape=(100,), dtype=float32)\n98    Tensor(\"sub_298:0\", shape=(100,), dtype=float32)\n99    Tensor(\"sub_299:0\", shape=(100,), dtype=float32)\nLength: 100, dtype: object",
      "\nDuring handling of the above exception, another exception occurred:\n",
      "\u001b[1;31mTypeError\u001b[0m                                 Traceback (most recent call last)",
      "\u001b[1;32m<ipython-input-49-290fa7a9f858>\u001b[0m in \u001b[0;36m<module>\u001b[1;34m()\u001b[0m\n\u001b[1;32m----> 1\u001b[1;33m \u001b[0mloss\u001b[0m \u001b[1;33m=\u001b[0m \u001b[0mtf\u001b[0m\u001b[1;33m.\u001b[0m\u001b[0mreduce_mean\u001b[0m\u001b[1;33m(\u001b[0m\u001b[0mtf\u001b[0m\u001b[1;33m.\u001b[0m\u001b[0msquare\u001b[0m\u001b[1;33m(\u001b[0m\u001b[0my\u001b[0m \u001b[1;33m-\u001b[0m \u001b[0mY\u001b[0m\u001b[1;33m)\u001b[0m\u001b[1;33m)\u001b[0m\u001b[1;33m\u001b[0m\u001b[0m\n\u001b[0m",
      "\u001b[1;32mF:\\anaconda3\\envs\\L\\lib\\site-packages\\tensorflow\\python\\ops\\math_ops.py\u001b[0m in \u001b[0;36msquare\u001b[1;34m(x, name)\u001b[0m\n\u001b[0;32m    418\u001b[0m           indices=x.indices, values=x_square, dense_shape=x.dense_shape)\n\u001b[0;32m    419\u001b[0m     \u001b[1;32melse\u001b[0m\u001b[1;33m:\u001b[0m\u001b[1;33m\u001b[0m\u001b[0m\n\u001b[1;32m--> 420\u001b[1;33m       \u001b[1;32mreturn\u001b[0m \u001b[0mgen_math_ops\u001b[0m\u001b[1;33m.\u001b[0m\u001b[0msquare\u001b[0m\u001b[1;33m(\u001b[0m\u001b[0mx\u001b[0m\u001b[1;33m,\u001b[0m \u001b[0mname\u001b[0m\u001b[1;33m=\u001b[0m\u001b[0mname\u001b[0m\u001b[1;33m)\u001b[0m\u001b[1;33m\u001b[0m\u001b[0m\n\u001b[0m\u001b[0;32m    421\u001b[0m \u001b[1;33m\u001b[0m\u001b[0m\n\u001b[0;32m    422\u001b[0m \u001b[1;33m\u001b[0m\u001b[0m\n",
      "\u001b[1;32mF:\\anaconda3\\envs\\L\\lib\\site-packages\\tensorflow\\python\\ops\\gen_math_ops.py\u001b[0m in \u001b[0;36msquare\u001b[1;34m(x, name)\u001b[0m\n\u001b[0;32m   2461\u001b[0m     \u001b[0mA\u001b[0m\u001b[0;31m \u001b[0m\u001b[0;31m`\u001b[0m\u001b[0mTensor\u001b[0m\u001b[0;31m`\u001b[0m\u001b[1;33m.\u001b[0m \u001b[0mHas\u001b[0m \u001b[0mthe\u001b[0m \u001b[0msame\u001b[0m \u001b[0mtype\u001b[0m \u001b[1;32mas\u001b[0m\u001b[0;31m \u001b[0m\u001b[0;31m`\u001b[0m\u001b[0mx\u001b[0m\u001b[0;31m`\u001b[0m\u001b[1;33m.\u001b[0m\u001b[1;33m\u001b[0m\u001b[0m\n\u001b[0;32m   2462\u001b[0m   \"\"\"\n\u001b[1;32m-> 2463\u001b[1;33m   \u001b[0mresult\u001b[0m \u001b[1;33m=\u001b[0m \u001b[0m_op_def_lib\u001b[0m\u001b[1;33m.\u001b[0m\u001b[0mapply_op\u001b[0m\u001b[1;33m(\u001b[0m\u001b[1;34m\"Square\"\u001b[0m\u001b[1;33m,\u001b[0m \u001b[0mx\u001b[0m\u001b[1;33m=\u001b[0m\u001b[0mx\u001b[0m\u001b[1;33m,\u001b[0m \u001b[0mname\u001b[0m\u001b[1;33m=\u001b[0m\u001b[0mname\u001b[0m\u001b[1;33m)\u001b[0m\u001b[1;33m\u001b[0m\u001b[0m\n\u001b[0m\u001b[0;32m   2464\u001b[0m   \u001b[1;32mreturn\u001b[0m \u001b[0mresult\u001b[0m\u001b[1;33m\u001b[0m\u001b[0m\n\u001b[0;32m   2465\u001b[0m \u001b[1;33m\u001b[0m\u001b[0m\n",
      "\u001b[1;32mF:\\anaconda3\\envs\\L\\lib\\site-packages\\tensorflow\\python\\framework\\op_def_library.py\u001b[0m in \u001b[0;36mapply_op\u001b[1;34m(self, op_type_name, name, **keywords)\u001b[0m\n\u001b[0;32m    491\u001b[0m           \u001b[1;32mexcept\u001b[0m \u001b[0mTypeError\u001b[0m \u001b[1;32mas\u001b[0m \u001b[0merr\u001b[0m\u001b[1;33m:\u001b[0m\u001b[1;33m\u001b[0m\u001b[0m\n\u001b[0;32m    492\u001b[0m             \u001b[1;32mif\u001b[0m \u001b[0mdtype\u001b[0m \u001b[1;32mis\u001b[0m \u001b[1;32mNone\u001b[0m\u001b[1;33m:\u001b[0m\u001b[1;33m\u001b[0m\u001b[0m\n\u001b[1;32m--> 493\u001b[1;33m               \u001b[1;32mraise\u001b[0m \u001b[0merr\u001b[0m\u001b[1;33m\u001b[0m\u001b[0m\n\u001b[0m\u001b[0;32m    494\u001b[0m             \u001b[1;32melse\u001b[0m\u001b[1;33m:\u001b[0m\u001b[1;33m\u001b[0m\u001b[0m\n\u001b[0;32m    495\u001b[0m               raise TypeError(\n",
      "\u001b[1;32mF:\\anaconda3\\envs\\L\\lib\\site-packages\\tensorflow\\python\\framework\\op_def_library.py\u001b[0m in \u001b[0;36mapply_op\u001b[1;34m(self, op_type_name, name, **keywords)\u001b[0m\n\u001b[0;32m    488\u001b[0m                 \u001b[0mdtype\u001b[0m\u001b[1;33m=\u001b[0m\u001b[0mdtype\u001b[0m\u001b[1;33m,\u001b[0m\u001b[1;33m\u001b[0m\u001b[0m\n\u001b[0;32m    489\u001b[0m                 \u001b[0mas_ref\u001b[0m\u001b[1;33m=\u001b[0m\u001b[0minput_arg\u001b[0m\u001b[1;33m.\u001b[0m\u001b[0mis_ref\u001b[0m\u001b[1;33m,\u001b[0m\u001b[1;33m\u001b[0m\u001b[0m\n\u001b[1;32m--> 490\u001b[1;33m                 preferred_dtype=default_dtype)\n\u001b[0m\u001b[0;32m    491\u001b[0m           \u001b[1;32mexcept\u001b[0m \u001b[0mTypeError\u001b[0m \u001b[1;32mas\u001b[0m \u001b[0merr\u001b[0m\u001b[1;33m:\u001b[0m\u001b[1;33m\u001b[0m\u001b[0m\n\u001b[0;32m    492\u001b[0m             \u001b[1;32mif\u001b[0m \u001b[0mdtype\u001b[0m \u001b[1;32mis\u001b[0m \u001b[1;32mNone\u001b[0m\u001b[1;33m:\u001b[0m\u001b[1;33m\u001b[0m\u001b[0m\n",
      "\u001b[1;32mF:\\anaconda3\\envs\\L\\lib\\site-packages\\tensorflow\\python\\framework\\ops.py\u001b[0m in \u001b[0;36minternal_convert_to_tensor\u001b[1;34m(value, dtype, name, as_ref, preferred_dtype)\u001b[0m\n\u001b[0;32m    739\u001b[0m \u001b[1;33m\u001b[0m\u001b[0m\n\u001b[0;32m    740\u001b[0m         \u001b[1;32mif\u001b[0m \u001b[0mret\u001b[0m \u001b[1;32mis\u001b[0m \u001b[1;32mNone\u001b[0m\u001b[1;33m:\u001b[0m\u001b[1;33m\u001b[0m\u001b[0m\n\u001b[1;32m--> 741\u001b[1;33m           \u001b[0mret\u001b[0m \u001b[1;33m=\u001b[0m \u001b[0mconversion_func\u001b[0m\u001b[1;33m(\u001b[0m\u001b[0mvalue\u001b[0m\u001b[1;33m,\u001b[0m \u001b[0mdtype\u001b[0m\u001b[1;33m=\u001b[0m\u001b[0mdtype\u001b[0m\u001b[1;33m,\u001b[0m \u001b[0mname\u001b[0m\u001b[1;33m=\u001b[0m\u001b[0mname\u001b[0m\u001b[1;33m,\u001b[0m \u001b[0mas_ref\u001b[0m\u001b[1;33m=\u001b[0m\u001b[0mas_ref\u001b[0m\u001b[1;33m)\u001b[0m\u001b[1;33m\u001b[0m\u001b[0m\n\u001b[0m\u001b[0;32m    742\u001b[0m \u001b[1;33m\u001b[0m\u001b[0m\n\u001b[0;32m    743\u001b[0m         \u001b[1;32mif\u001b[0m \u001b[0mret\u001b[0m \u001b[1;32mis\u001b[0m \u001b[0mNotImplemented\u001b[0m\u001b[1;33m:\u001b[0m\u001b[1;33m\u001b[0m\u001b[0m\n",
      "\u001b[1;32mF:\\anaconda3\\envs\\L\\lib\\site-packages\\tensorflow\\python\\framework\\constant_op.py\u001b[0m in \u001b[0;36m_constant_tensor_conversion_function\u001b[1;34m(v, dtype, name, as_ref)\u001b[0m\n\u001b[0;32m    111\u001b[0m                                          as_ref=False):\n\u001b[0;32m    112\u001b[0m   \u001b[0m_\u001b[0m \u001b[1;33m=\u001b[0m \u001b[0mas_ref\u001b[0m\u001b[1;33m\u001b[0m\u001b[0m\n\u001b[1;32m--> 113\u001b[1;33m   \u001b[1;32mreturn\u001b[0m \u001b[0mconstant\u001b[0m\u001b[1;33m(\u001b[0m\u001b[0mv\u001b[0m\u001b[1;33m,\u001b[0m \u001b[0mdtype\u001b[0m\u001b[1;33m=\u001b[0m\u001b[0mdtype\u001b[0m\u001b[1;33m,\u001b[0m \u001b[0mname\u001b[0m\u001b[1;33m=\u001b[0m\u001b[0mname\u001b[0m\u001b[1;33m)\u001b[0m\u001b[1;33m\u001b[0m\u001b[0m\n\u001b[0m\u001b[0;32m    114\u001b[0m \u001b[1;33m\u001b[0m\u001b[0m\n\u001b[0;32m    115\u001b[0m \u001b[1;33m\u001b[0m\u001b[0m\n",
      "\u001b[1;32mF:\\anaconda3\\envs\\L\\lib\\site-packages\\tensorflow\\python\\framework\\constant_op.py\u001b[0m in \u001b[0;36mconstant\u001b[1;34m(value, dtype, shape, name, verify_shape)\u001b[0m\n\u001b[0;32m    100\u001b[0m   \u001b[0mtensor_value\u001b[0m \u001b[1;33m=\u001b[0m \u001b[0mattr_value_pb2\u001b[0m\u001b[1;33m.\u001b[0m\u001b[0mAttrValue\u001b[0m\u001b[1;33m(\u001b[0m\u001b[1;33m)\u001b[0m\u001b[1;33m\u001b[0m\u001b[0m\n\u001b[0;32m    101\u001b[0m   tensor_value.tensor.CopyFrom(\n\u001b[1;32m--> 102\u001b[1;33m       tensor_util.make_tensor_proto(value, dtype=dtype, shape=shape, verify_shape=verify_shape))\n\u001b[0m\u001b[0;32m    103\u001b[0m   \u001b[0mdtype_value\u001b[0m \u001b[1;33m=\u001b[0m \u001b[0mattr_value_pb2\u001b[0m\u001b[1;33m.\u001b[0m\u001b[0mAttrValue\u001b[0m\u001b[1;33m(\u001b[0m\u001b[0mtype\u001b[0m\u001b[1;33m=\u001b[0m\u001b[0mtensor_value\u001b[0m\u001b[1;33m.\u001b[0m\u001b[0mtensor\u001b[0m\u001b[1;33m.\u001b[0m\u001b[0mdtype\u001b[0m\u001b[1;33m)\u001b[0m\u001b[1;33m\u001b[0m\u001b[0m\n\u001b[0;32m    104\u001b[0m   const_tensor = g.create_op(\n",
      "\u001b[1;32mF:\\anaconda3\\envs\\L\\lib\\site-packages\\tensorflow\\python\\framework\\tensor_util.py\u001b[0m in \u001b[0;36mmake_tensor_proto\u001b[1;34m(values, dtype, shape, verify_shape)\u001b[0m\n\u001b[0;32m    460\u001b[0m       raise TypeError(\"Failed to convert object of type %s to Tensor. \"\n\u001b[0;32m    461\u001b[0m                       \u001b[1;34m\"Contents: %s. Consider casting elements to a \"\u001b[0m\u001b[1;33m\u001b[0m\u001b[0m\n\u001b[1;32m--> 462\u001b[1;33m                       \"supported type.\" % (type(values), values))\n\u001b[0m\u001b[0;32m    463\u001b[0m     \u001b[0mtensor_proto\u001b[0m\u001b[1;33m.\u001b[0m\u001b[0mstring_val\u001b[0m\u001b[1;33m.\u001b[0m\u001b[0mextend\u001b[0m\u001b[1;33m(\u001b[0m\u001b[0mstr_values\u001b[0m\u001b[1;33m)\u001b[0m\u001b[1;33m\u001b[0m\u001b[0m\n\u001b[0;32m    464\u001b[0m     \u001b[1;32mreturn\u001b[0m \u001b[0mtensor_proto\u001b[0m\u001b[1;33m\u001b[0m\u001b[0m\n",
      "\u001b[1;31mTypeError\u001b[0m: Failed to convert object of type <class 'pandas.core.series.Series'> to Tensor. Contents: 0     Tensor(\"sub_200:0\", shape=(100,), dtype=float32)\n1     Tensor(\"sub_201:0\", shape=(100,), dtype=float32)\n2     Tensor(\"sub_202:0\", shape=(100,), dtype=float32)\n3     Tensor(\"sub_203:0\", shape=(100,), dtype=float32)\n4     Tensor(\"sub_204:0\", shape=(100,), dtype=float32)\n5     Tensor(\"sub_205:0\", shape=(100,), dtype=float32)\n6     Tensor(\"sub_206:0\", shape=(100,), dtype=float32)\n7     Tensor(\"sub_207:0\", shape=(100,), dtype=float32)\n8     Tensor(\"sub_208:0\", shape=(100,), dtype=float32)\n9     Tensor(\"sub_209:0\", shape=(100,), dtype=float32)\n10    Tensor(\"sub_210:0\", shape=(100,), dtype=float32)\n11    Tensor(\"sub_211:0\", shape=(100,), dtype=float32)\n12    Tensor(\"sub_212:0\", shape=(100,), dtype=float32)\n13    Tensor(\"sub_213:0\", shape=(100,), dtype=float32)\n14    Tensor(\"sub_214:0\", shape=(100,), dtype=float32)\n15    Tensor(\"sub_215:0\", shape=(100,), dtype=float32)\n16    Tensor(\"sub_216:0\", shape=(100,), dtype=float32)\n17    Tensor(\"sub_217:0\", shape=(100,), dtype=float32)\n18    Tensor(\"sub_218:0\", shape=(100,), dtype=float32)\n19    Tensor(\"sub_219:0\", shape=(100,), dtype=float32)\n20    Tensor(\"sub_220:0\", shape=(100,), dtype=float32)\n21    Tensor(\"sub_221:0\", shape=(100,), dtype=float32)\n22    Tensor(\"sub_222:0\", shape=(100,), dtype=float32)\n23    Tensor(\"sub_223:0\", shape=(100,), dtype=float32)\n24    Tensor(\"sub_224:0\", shape=(100,), dtype=float32)\n25    Tensor(\"sub_225:0\", shape=(100,), dtype=float32)\n26    Tensor(\"sub_226:0\", shape=(100,), dtype=float32)\n27    Tensor(\"sub_227:0\", shape=(100,), dtype=float32)\n28    Tensor(\"sub_228:0\", shape=(100,), dtype=float32)\n29    Tensor(\"sub_229:0\", shape=(100,), dtype=float32)\n                            ...                       \n70    Tensor(\"sub_270:0\", shape=(100,), dtype=float32)\n71    Tensor(\"sub_271:0\", shape=(100,), dtype=float32)\n72    Tensor(\"sub_272:0\", shape=(100,), dtype=float32)\n73    Tensor(\"sub_273:0\", shape=(100,), dtype=float32)\n74    Tensor(\"sub_274:0\", shape=(100,), dtype=float32)\n75    Tensor(\"sub_275:0\", shape=(100,), dtype=float32)\n76    Tensor(\"sub_276:0\", shape=(100,), dtype=float32)\n77    Tensor(\"sub_277:0\", shape=(100,), dtype=float32)\n78    Tensor(\"sub_278:0\", shape=(100,), dtype=float32)\n79    Tensor(\"sub_279:0\", shape=(100,), dtype=float32)\n80    Tensor(\"sub_280:0\", shape=(100,), dtype=float32)\n81    Tensor(\"sub_281:0\", shape=(100,), dtype=float32)\n82    Tensor(\"sub_282:0\", shape=(100,), dtype=float32)\n83    Tensor(\"sub_283:0\", shape=(100,), dtype=float32)\n84    Tensor(\"sub_284:0\", shape=(100,), dtype=float32)\n85    Tensor(\"sub_285:0\", shape=(100,), dtype=float32)\n86    Tensor(\"sub_286:0\", shape=(100,), dtype=float32)\n87    Tensor(\"sub_287:0\", shape=(100,), dtype=float32)\n88    Tensor(\"sub_288:0\", shape=(100,), dtype=float32)\n89    Tensor(\"sub_289:0\", shape=(100,), dtype=float32)\n90    Tensor(\"sub_290:0\", shape=(100,), dtype=float32)\n91    Tensor(\"sub_291:0\", shape=(100,), dtype=float32)\n92    Tensor(\"sub_292:0\", shape=(100,), dtype=float32)\n93    Tensor(\"sub_293:0\", shape=(100,), dtype=float32)\n94    Tensor(\"sub_294:0\", shape=(100,), dtype=float32)\n95    Tensor(\"sub_295:0\", shape=(100,), dtype=float32)\n96    Tensor(\"sub_296:0\", shape=(100,), dtype=float32)\n97    Tensor(\"sub_297:0\", shape=(100,), dtype=float32)\n98    Tensor(\"sub_298:0\", shape=(100,), dtype=float32)\n99    Tensor(\"sub_299:0\", shape=(100,), dtype=float32)\nLength: 100, dtype: object. Consider casting elements to a supported type."
     ]
    }
   ],
   "source": [
    "loss = tf.reduce_mean(tf.square(y - Y))"
   ]
  },
  {
   "cell_type": "code",
   "execution_count": 47,
   "metadata": {},
   "outputs": [
    {
     "data": {
      "text/plain": [
       "(100,)"
      ]
     },
     "execution_count": 47,
     "metadata": {},
     "output_type": "execute_result"
    }
   ],
   "source": [
    "y.shape"
   ]
  },
  {
   "cell_type": "code",
   "execution_count": 48,
   "metadata": {},
   "outputs": [
    {
     "data": {
      "text/plain": [
       "(100,)"
      ]
     },
     "execution_count": 48,
     "metadata": {},
     "output_type": "execute_result"
    }
   ],
   "source": [
    "Y.shape"
   ]
  },
  {
   "cell_type": "code",
   "execution_count": null,
   "metadata": {
    "collapsed": true
   },
   "outputs": [],
   "source": []
  }
 ],
 "metadata": {
  "kernelspec": {
   "display_name": "Python 3",
   "language": "python",
   "name": "python3"
  },
  "language_info": {
   "codemirror_mode": {
    "name": "ipython",
    "version": 3
   },
   "file_extension": ".py",
   "mimetype": "text/x-python",
   "name": "python",
   "nbconvert_exporter": "python",
   "pygments_lexer": "ipython3",
   "version": "3.5.3"
  }
 },
 "nbformat": 4,
 "nbformat_minor": 2
}
